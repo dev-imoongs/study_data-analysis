{
 "cells": [
  {
   "cell_type": "markdown",
   "id": "9a25def6",
   "metadata": {},
   "source": [
    "### RFM 분석\n",
    "####  사용자별로 얼마나 최근에, 얼마나 자주, 얼마나 많은 금액을 지출했는지에 따라 사용자들의 분포를 확인할 수 있고, 사용자 그룹(또는 등급)을 나누어 분류하는 분석 기법이다. 구매 가능성이 높은 고객을 선정할 때 용이한 데이터 분석 방법이며, 사용자들의 평소 구매 패턴을 기준으로 분류를 진행하기 때문에 각 사용자 그룹의 특성에 따라 차별화된 마케팅 메세지를 전달할 수 있다.\n",
    "\n",
    "- Recency : 얼마나 최근에 구매했는가\n",
    "- Frequency : 얼마나 자주 구매했는가\n",
    "- Monetary : 얼마나 많은 금액을 지출했는가"
   ]
  },
  {
   "cell_type": "markdown",
   "id": "97468110",
   "metadata": {},
   "source": [
    "### 고객 분석\n",
    "- CustomerID: 고객 번호\n",
    "- PurchaseDate: 구매 날짜\n",
    "- TransactionAmount: 결제 금액 \n",
    "- ProductInformation: 상품 정보\n",
    "- OrderID: 주문 번호\n",
    "- Location: 주문 지역"
   ]
  },
  {
   "cell_type": "code",
   "execution_count": null,
   "id": "356358d4",
   "metadata": {},
   "outputs": [],
   "source": []
  },
  {
   "cell_type": "code",
   "execution_count": null,
   "id": "ea38bb73",
   "metadata": {},
   "outputs": [],
   "source": []
  },
  {
   "cell_type": "code",
   "execution_count": null,
   "id": "12283dff",
   "metadata": {},
   "outputs": [],
   "source": []
  },
  {
   "cell_type": "code",
   "execution_count": null,
   "id": "0c4c56d3",
   "metadata": {},
   "outputs": [],
   "source": []
  },
  {
   "cell_type": "code",
   "execution_count": null,
   "id": "4a09e06d",
   "metadata": {},
   "outputs": [],
   "source": []
  },
  {
   "cell_type": "code",
   "execution_count": null,
   "id": "86473fcf",
   "metadata": {},
   "outputs": [],
   "source": []
  },
  {
   "cell_type": "code",
   "execution_count": null,
   "id": "e2b06c81",
   "metadata": {},
   "outputs": [],
   "source": []
  },
  {
   "cell_type": "code",
   "execution_count": null,
   "id": "bf9f8dc8",
   "metadata": {},
   "outputs": [],
   "source": []
  }
 ],
 "metadata": {
  "kernelspec": {
   "display_name": "Python 3 (ipykernel)",
   "language": "python",
   "name": "python3"
  },
  "language_info": {
   "codemirror_mode": {
    "name": "ipython",
    "version": 3
   },
   "file_extension": ".py",
   "mimetype": "text/x-python",
   "name": "python",
   "nbconvert_exporter": "python",
   "pygments_lexer": "ipython3",
   "version": "3.11.5"
  }
 },
 "nbformat": 4,
 "nbformat_minor": 5
}
