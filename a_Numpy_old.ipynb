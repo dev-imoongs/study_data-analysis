{
 "cells": [
  {
   "cell_type": "code",
   "execution_count": 1,
   "id": "ad266989",
   "metadata": {},
   "outputs": [],
   "source": [
    "# conda update --all\n",
    "# pip install --upgrade nbconvert\n",
    "# conda install -c conda-forge xgboost\n",
    "# https://drive.google.com/file/d/1npdCLF0KMkTspBH-E0TSaNvmc9TEuSiL/view?usp=sharing\n",
    "# conda install -c conda-forge lightgbm\n",
    "# conda install -c conda-forge matplotlib\n",
    "\n",
    "import sklearn\n",
    "import pandas as pd\n",
    "import numpy as np\n",
    "import xgboost\n",
    "import lightgbm"
   ]
  },
  {
   "cell_type": "code",
   "execution_count": 155,
   "id": "b347f7f6",
   "metadata": {},
   "outputs": [
    {
     "name": "stdout",
     "output_type": "stream",
     "text": [
      "1.3.0\n",
      "2.0.3\n",
      "1.24.3\n",
      "1.7.3\n",
      "3.3.5\n"
     ]
    }
   ],
   "source": [
    "print(sklearn.__version__)\n",
    "print(pd.__version__)\n",
    "print(np.__version__)\n",
    "print(xgboost.__version__)\n",
    "print(lightgbm.__version__)"
   ]
  },
  {
   "cell_type": "markdown",
   "id": "71bccc75",
   "metadata": {},
   "source": [
    "### Numpy\n",
    "- 머신러닝 애플리케이션에서 데이터 추출, 가공, 변환과 같은 데이터 처리 부분을 담당한다.\n",
    "- 넘파이 기반의 사이킷런을 이해하기 위해서는 넘파이는 필수이다.\n",
    "- 사이킷런은 직관적이고 간결하기 때문에 상대적으로 개발하기 쉽지만 넘파이는 양도 많고 배워야 할 것도 많다.\n",
    "- 넘파이 전체를 다 이해하고 공부하는 것은 머신러닝을 포기하게 만들기 때문에 기본 문법과 중요 API만 이해하는 것이 전략적으로 좋다."
   ]
  },
  {
   "cell_type": "markdown",
   "id": "eb0df4d7",
   "metadata": {},
   "source": [
    "### ndarray\n",
    "- N차원(Dimension) 배열 객체\n",
    "- 파이썬 list를 array() 메소드에 전달하면 ndarray로 변환되고 다양하고 편리한 기능들을 사용할 수 있게 된다.  \n",
    "📌 반드시 같은 자료형의 데이터만 담아야 한다.\n",
    "\n",
    "![](./images/numpy1.png)"
   ]
  },
  {
   "cell_type": "code",
   "execution_count": 4,
   "id": "f167cd04",
   "metadata": {},
   "outputs": [],
   "source": [
    "import numpy as np"
   ]
  },
  {
   "cell_type": "code",
   "execution_count": 5,
   "id": "46a74f29",
   "metadata": {},
   "outputs": [
    {
     "name": "stdout",
     "output_type": "stream",
     "text": [
      "<class 'numpy.ndarray'>\n",
      "[1 2 3]\n",
      "(3,)\n",
      "(2, 3)\n",
      "1\n",
      "2\n"
     ]
    }
   ],
   "source": [
    "ndarray1 = np.array([1, 2, 3])\n",
    "ndarray2 = np.array([[1, 2, 3], [4, 5, 6]])\n",
    "print(type(ndarray1), ndarray1, sep=\"\\n\")\n",
    "\n",
    "# shape: 차원을 알 수 있으며, 각 차원별 개수를 나타냄\n",
    "print(ndarray1.shape)\n",
    "print(ndarray2.shape)\n",
    "\n",
    "# ndim: 차원만 나타냄\n",
    "print(ndarray1.ndim)\n",
    "print(ndarray2.ndim)"
   ]
  },
  {
   "cell_type": "markdown",
   "id": "ff252a4c",
   "metadata": {},
   "source": [
    "### astype()\n",
    "- ndarray에 저장된 요소의 타입을 변환 시킬 때 사용한다.\n",
    "- 대용량 데이터 처리 시, 메모리 절약을 위해 사용한다."
   ]
  },
  {
   "cell_type": "code",
   "execution_count": 6,
   "id": "20d8f046",
   "metadata": {},
   "outputs": [
    {
     "name": "stdout",
     "output_type": "stream",
     "text": [
      "<class 'numpy.ndarray'>\n",
      "int32\n",
      "int8\n",
      "float16\n",
      "[1. 2. 3.]\n",
      "int16\n"
     ]
    }
   ],
   "source": [
    "ndarray1 = np.array([1, 2, 3])\n",
    "ndarray2 = np.array([4, 5, 6])\n",
    "\n",
    "print(type(ndarray1))\n",
    "print(ndarray1.dtype)\n",
    "\n",
    "ndarray1_int8 = ndarray1.astype(np.int8)\n",
    "print(ndarray1_int8.dtype)\n",
    "\n",
    "ndarray1_float16 = ndarray1.astype(np.float16)\n",
    "print(ndarray1_float16.dtype)\n",
    "print(ndarray1_float16)\n",
    "\n",
    "ndarray2_int16 = ndarray2.astype('int16')\n",
    "print(ndarray2_int16.dtype)"
   ]
  },
  {
   "cell_type": "markdown",
   "id": "56410f3c",
   "metadata": {},
   "source": [
    "### ndarray의 axis\n",
    "- 축의 방향성을 표현할 때 axis로 표현할 수 있다.\n",
    "- 2차원(행, 열)일 경우 순서대로 행: axis 0(위에서 아래로), 열: axis 1(왼쪽에서 오른쪽)이다.\n",
    "- 3차원(면, 행, 열)일 경우 순서대로 면: axis 0(뒤에서 앞으로), 행: axis 1(위에서 아래로), 열: axis 2(왼쪽에서 오른쪽)이다.  \n",
    "\n",
    "![](./images/numpy2.png)"
   ]
  },
  {
   "cell_type": "markdown",
   "id": "ed30ebbd",
   "metadata": {},
   "source": [
    "### arange(), zeros(), ones()\n",
    "- ndarray의 요소를 원하는 범위의 연속값, 0또는 1로 초기화할 때 사용한다."
   ]
  },
  {
   "cell_type": "code",
   "execution_count": 7,
   "id": "9341a4bc",
   "metadata": {},
   "outputs": [
    {
     "name": "stdout",
     "output_type": "stream",
     "text": [
      "[0 1 2 3 4 5 6 7 8 9] int32 (10,)\n",
      "[[0. 0. 0.]\n",
      " [0. 0. 0.]] float64 (2, 3)\n",
      "[1. 1. 1.] float64 (3,)\n",
      "[1 1 1] int8 (3,)\n"
     ]
    }
   ],
   "source": [
    "# 0~9 까지 1차원\n",
    "ndarray = np.arange(0, 10)\n",
    "print(ndarray, ndarray.dtype, ndarray.shape)\n",
    "\n",
    "# 2행 3열 요소 모두 0으로 초기화\n",
    "ndarray = np.zeros((2, 3))\n",
    "print(ndarray, ndarray.dtype, ndarray.shape)\n",
    "\n",
    "# 1차원 3칸 배열 요소 모두 1로 초기화\n",
    "# ndarray = np.ones(3)\n",
    "ndarray = np.ones((3,))\n",
    "print(ndarray, ndarray.dtype, ndarray.shape)\n",
    "\n",
    "# 요소 타입 정수로 변환\n",
    "ndarray_int8 = ndarray.astype(np.int8)\n",
    "print(ndarray_int8, ndarray_int8.dtype, ndarray_int8.shape)"
   ]
  },
  {
   "cell_type": "markdown",
   "id": "8a99f31e",
   "metadata": {},
   "source": [
    "### reshape()\n",
    "- ndarray의 기존 shape를 다른 shape로 변경한다."
   ]
  },
  {
   "cell_type": "code",
   "execution_count": 8,
   "id": "58d93096",
   "metadata": {},
   "outputs": [
    {
     "name": "stdout",
     "output_type": "stream",
     "text": [
      "[0 1 2 3 4 5 6 7] (8,)\n",
      "==============================\n",
      "[[0 1 2 3]\n",
      " [4 5 6 7]] (2, 4)\n",
      "==============================\n",
      "[[0 1]\n",
      " [2 3]\n",
      " [4 5]\n",
      " [6 7]] (4, 2)\n",
      "==============================\n",
      "[[0 1]\n",
      " [2 3]\n",
      " [4 5]\n",
      " [6 7]] (4, 2)\n"
     ]
    }
   ],
   "source": [
    "ndarray1 = np.arange(8)\n",
    "print(ndarray1, ndarray1.shape)\n",
    "\n",
    "print(\"=\" * 30)\n",
    "\n",
    "ndarray2 = ndarray1.reshape(2, 4)\n",
    "print(ndarray2, ndarray2.shape)\n",
    "\n",
    "print(\"=\" * 30)\n",
    "\n",
    "# axis 자리에 -1을 작성하면, 자동으로 열 개수로 나누어 맞춰진다. 직접 계산해서 작성하는 번거러움을 줄여준다.\n",
    "ndarray3 = ndarray1.reshape(-1, 2)\n",
    "print(ndarray3, ndarray3.shape)\n",
    "\n",
    "print(\"=\" * 30)\n",
    "\n",
    "ndarray4 = ndarray1.reshape(4, -1)\n",
    "print(ndarray4, ndarray4.shape)"
   ]
  },
  {
   "cell_type": "markdown",
   "id": "305a2074",
   "metadata": {},
   "source": [
    "### Indexing\n",
    "- 특정 위치의 데이터를 가져오는 것\n",
    "\n",
    "1. 위치 인덱싱(Location indexing): 전달한 위치(인덱스)의 값 한 개 추출\n",
    "2. 슬라이싱(Slicing): 시작 위치와 종료 위치에 해당하는 ndarray 추출\n",
    "3. 팬시 인덱싱(Fancy indexing): list를 전달하여 한 번에 여러 요소를 추출, 특정 위치 값들을 콕 찝어서 추출\n",
    "4. 불린 인덱싱(Boolean indexing): True인 위치의 ndarray 추출"
   ]
  },
  {
   "cell_type": "code",
   "execution_count": 9,
   "id": "67bbebaa",
   "metadata": {},
   "outputs": [
    {
     "name": "stdout",
     "output_type": "stream",
     "text": [
      "[ 2  3  4  5  6  7  8  9 10]\n",
      "4 <class 'numpy.int32'>\n",
      "10 <class 'numpy.int32'>\n",
      "9 <class 'numpy.int32'>\n",
      "[  2   3   4   5   6   7   8   9 100]\n"
     ]
    }
   ],
   "source": [
    "# 1-1. 1차원 위치 인덱싱(Location indexing)\n",
    "\n",
    "# 2부터 10까지 순서대로 요소를 갖는 1차원 ndarray\n",
    "ndarray = np.arange(start=2, stop=11)\n",
    "print(ndarray)\n",
    "\n",
    "data = ndarray[2]\n",
    "print(data, type(data))\n",
    "\n",
    "data = ndarray[-1]\n",
    "print(data, type(data))\n",
    "\n",
    "data = ndarray[-2]\n",
    "print(data, type(data))\n",
    "\n",
    "ndarray[-1] = 100\n",
    "print(ndarray)"
   ]
  },
  {
   "cell_type": "code",
   "execution_count": 10,
   "id": "951b2e4e",
   "metadata": {},
   "outputs": [
    {
     "name": "stdout",
     "output_type": "stream",
     "text": [
      "[[1 2 3]\n",
      " [4 5 6]\n",
      " [7 8 9]]\n",
      "4\n",
      "5\n",
      "7\n",
      "8\n",
      "[1 2 3] (3,)\n"
     ]
    }
   ],
   "source": [
    "# 1-2. 2차원 위치 인덱싱(Location indexing)\n",
    "ndarray1 = np.arange(start=1, stop=10)\n",
    "ndarray2 = ndarray1.reshape((3, -1))\n",
    "print(ndarray2)\n",
    "\n",
    "print(ndarray2[1, 0])\n",
    "print(ndarray2[1, 1])\n",
    "print(ndarray2[2, 0])\n",
    "print(ndarray2[2, 1])\n",
    "print(ndarray2[0], ndarray2[0].shape)"
   ]
  },
  {
   "cell_type": "code",
   "execution_count": 11,
   "id": "a3e19322",
   "metadata": {},
   "outputs": [
    {
     "name": "stdout",
     "output_type": "stream",
     "text": [
      "[2 4 6 8]\n",
      "[2 4 6] (3,)\n",
      "[8] (1,)\n",
      "[2 4 6 8]\n",
      "[2 4 6 8]\n",
      "[6 4 2]\n"
     ]
    }
   ],
   "source": [
    "# 2-1. 1차원 슬라이싱(Slicing)\n",
    "\n",
    "ndarray1 = np.arange(start=2, stop=10, step=2)\n",
    "print(ndarray1)\n",
    "\n",
    "print(ndarray1[:3], ndarray1[:3].shape)\n",
    "print(ndarray1[3:], ndarray1[3:].shape)\n",
    "print(ndarray1[:])\n",
    "print(ndarray1[-4:])\n",
    "print(ndarray1[-2::-1])"
   ]
  },
  {
   "cell_type": "code",
   "execution_count": 12,
   "id": "6e149ae1",
   "metadata": {
    "scrolled": true
   },
   "outputs": [
    {
     "name": "stdout",
     "output_type": "stream",
     "text": [
      "[ 1  2  3  4  5  6  7  8  9 10 11 12 13 14 15 16 17 18 19 20 21 22 23 24\n",
      " 25 26 27]\n",
      "==============================\n",
      "[[ 1  2  3]\n",
      " [ 4  5  6]\n",
      " [ 7  8  9]\n",
      " [10 11 12]\n",
      " [13 14 15]\n",
      " [16 17 18]\n",
      " [19 20 21]\n",
      " [22 23 24]\n",
      " [25 26 27]]\n",
      "==============================\n",
      "[[1 2]\n",
      " [4 5]\n",
      " [7 8]]\n",
      "==============================\n",
      "[[13 14 15]\n",
      " [16 17 18]\n",
      " [19 20 21]\n",
      " [22 23 24]\n",
      " [25 26 27]]\n",
      "==============================\n",
      "[[13 14 15]\n",
      " [16 17 18]\n",
      " [19 20 21]\n",
      " [22 23 24]\n",
      " [25 26 27]]\n",
      "==============================\n",
      "[[ 1  2  3]\n",
      " [ 4  5  6]\n",
      " [ 7  8  9]\n",
      " [10 11 12]\n",
      " [13 14 15]\n",
      " [16 17 18]\n",
      " [19 20 21]\n",
      " [22 23 24]\n",
      " [25 26 27]]\n",
      "==============================\n",
      "[[22 23]]\n",
      "==============================\n",
      "[[25 26 27]\n",
      " [22 23 24]\n",
      " [19 20 21]\n",
      " [16 17 18]\n",
      " [13 14 15]\n",
      " [10 11 12]\n",
      " [ 7  8  9]\n",
      " [ 4  5  6]\n",
      " [ 1  2  3]]\n",
      "==============================\n",
      "[[27 26 25]\n",
      " [24 23 22]\n",
      " [21 20 19]\n",
      " [18 17 16]\n",
      " [15 14 13]\n",
      " [12 11 10]\n",
      " [ 9  8  7]\n",
      " [ 6  5  4]\n",
      " [ 3  2  1]]\n"
     ]
    }
   ],
   "source": [
    "# 2-2. 2차원 슬라이싱(Slicing)\n",
    "\n",
    "ndarray1 = np.arange(start=1, stop=28)\n",
    "print(ndarray1)\n",
    "\n",
    "print(\"=\" * 30)\n",
    "\n",
    "ndarray2 = ndarray1.reshape((-1, 3))\n",
    "print(ndarray2)\n",
    "\n",
    "print(\"=\" * 30)\n",
    "\n",
    "print(ndarray2[:3, :2])\n",
    "\n",
    "print(\"=\" * 30)\n",
    "\n",
    "print(ndarray2[4:9])\n",
    "\n",
    "print(\"=\" * 30)\n",
    "\n",
    "print(ndarray2[4:, :])\n",
    "\n",
    "print(\"=\" * 30)\n",
    "\n",
    "print(ndarray2[:])\n",
    "\n",
    "print(\"=\" * 30)\n",
    "\n",
    "print(ndarray2[-2:-1, 0:2])\n",
    "\n",
    "print(\"=\" * 30)\n",
    "\n",
    "print(ndarray2[::-1])\n",
    "\n",
    "print(\"=\" * 30)\n",
    "\n",
    "print(ndarray2[::-1, ::-1])"
   ]
  },
  {
   "cell_type": "code",
   "execution_count": 13,
   "id": "3223dc2b",
   "metadata": {
    "scrolled": true
   },
   "outputs": [
    {
     "name": "stdout",
     "output_type": "stream",
     "text": [
      "[[ 1  2  3  4  5]\n",
      " [ 6  7  8  9 10]\n",
      " [11 12 13 14 15]\n",
      " [16 17 18 19 20]]\n",
      "[[ 3  4  5]\n",
      " [ 8  9 10]\n",
      " [18 19 20]]\n",
      "[[ 1  2  3  4  5]\n",
      " [ 6  7  8  9 10]]\n",
      "[ 7 14]\n",
      "[17 13 10]\n"
     ]
    }
   ],
   "source": [
    "# 3. 팬시 인덱싱(Fancy indexing)\n",
    "\n",
    "ndarray1 = np.arange(start=1, stop=21)\n",
    "ndarray2 = ndarray1.reshape((4, 5))\n",
    "print(ndarray2)\n",
    "\n",
    "print(ndarray2[[0, 1, 3], 2:5])\n",
    "print(ndarray2[[0, 1]])\n",
    "\n",
    "# 2차원 ndarray에서 행과 열 모두 팬시 인덱싱을 사용하면, 해당 좌표의 열백터를 가져온다.\n",
    "# ndarray2[[x1, x2], [y1, y2]] : (x1, y1), (x2, y2) : [x, y]\n",
    "print(ndarray2[[1, 2], [1, 3]])\n",
    "print(ndarray2[[3, 2, 1], [1, 2, 4]])"
   ]
  },
  {
   "cell_type": "code",
   "execution_count": 14,
   "id": "350a8186",
   "metadata": {},
   "outputs": [
    {
     "name": "stdout",
     "output_type": "stream",
     "text": [
      "[False False False  True False False False False  True False False False\n",
      " False  True False False False False  True False False False False  True\n",
      " False False False False  True False False False False  True]\n",
      "[ 10  25  40  55  70  85 100]\n",
      "[0 1 2]\n",
      "[1]\n"
     ]
    }
   ],
   "source": [
    "# 4. 불린 인덱싱(Boolean indexing)\n",
    "ndarray1 = np.arange(start=1, stop=101, step=3)\n",
    "print(ndarray1 % 5 == 0)\n",
    "print(ndarray1[ndarray1 % 5 == 0])\n",
    "\n",
    "ndarray1 = np.arange(3)\n",
    "print(ndarray1)\n",
    "print(ndarray1[[False, True, False]])"
   ]
  },
  {
   "cell_type": "markdown",
   "id": "74a818d8",
   "metadata": {},
   "source": [
    "### 정렬\n",
    "- 모두 오름차순 정렬이며, 내림차순은 오름차순 정렬 후 [::-1]을 붙여 사용한다.\n",
    "1. np.sort(ndarray) : 전달한 기존 행렬은 그대로 놔둔 채 새롭게 정렬된 행렬을 리턴한다.\n",
    "2. np.sort(ndarray, axis=n) : 전달한 축(axis)을 기준으로 정렬한다.\n",
    "3. ndarray.sort() : 기존 행렬을 정렬하며, 리턴은 없다.\n",
    "4. np.argsort(ndarray) : 요소 정렬 후 원래 인덱스(정렬 전 인덱스)를 리턴한다."
   ]
  },
  {
   "cell_type": "code",
   "execution_count": 15,
   "id": "28736770",
   "metadata": {},
   "outputs": [
    {
     "name": "stdout",
     "output_type": "stream",
     "text": [
      "원본 배열: [0 4 2 5]\n",
      "정렬된 배열: [0 2 4 5]\n"
     ]
    }
   ],
   "source": [
    "# np.sort(ndarray)\n",
    "\n",
    "original_ndarray = np.array([0, 4, 2, 5])\n",
    "\n",
    "sorted_ndarray = np.sort(original_ndarray)\n",
    "print(f\"원본 배열: {original_ndarray}\")\n",
    "print(f\"정렬된 배열: {sorted_ndarray}\")"
   ]
  },
  {
   "cell_type": "code",
   "execution_count": 16,
   "id": "5b7e00d4",
   "metadata": {},
   "outputs": [
    {
     "name": "stdout",
     "output_type": "stream",
     "text": [
      "원본 \n",
      "[[20 18 16 14 12]\n",
      " [10  8  6  4  2]]\n",
      "axis0 정렬 \n",
      "[[10  3  6  4  2]\n",
      " [20  8 16 14 12]]\n",
      "axis1 정렬 \n",
      "[[ 3 12 14 16 20]\n",
      " [ 2  4  6  8 10]]\n"
     ]
    }
   ],
   "source": [
    "# np.sort(ndarray, axis=n)\n",
    "\n",
    "ndarray1 = np.array([i for i in range(20, 0, -2)])\n",
    "ndarray2 = ndarray1.reshape(2, -1)\n",
    "print(f\"원본 \\n{ndarray2}\")\n",
    "\n",
    "ndarray2[0, 1] = 3\n",
    "sorted_ndarray_axis0 = np.sort(ndarray2, axis=0)\n",
    "print(f\"axis0 정렬 \\n{sorted_ndarray_axis0}\")\n",
    "\n",
    "sorted_ndarray_axis1 = np.sort(ndarray2, axis=1)\n",
    "print(f\"axis1 정렬 \\n{sorted_ndarray_axis1}\")"
   ]
  },
  {
   "cell_type": "code",
   "execution_count": 17,
   "id": "09228d10",
   "metadata": {},
   "outputs": [
    {
     "name": "stdout",
     "output_type": "stream",
     "text": [
      "원본 배열: [0 1 2 4]\n",
      "내림 차순: [4 2 1 0]\n"
     ]
    }
   ],
   "source": [
    "# ndarray.sort()\n",
    "\n",
    "original_ndarray = np.array([1, 2, 0, 4])\n",
    "original_ndarray.sort()\n",
    "\n",
    "print(f\"원본 배열: {original_ndarray}\")\n",
    "print(f\"내림 차순: {original_ndarray[::-1]}\")"
   ]
  },
  {
   "cell_type": "code",
   "execution_count": 20,
   "id": "f5fed0e7",
   "metadata": {},
   "outputs": [
    {
     "name": "stdout",
     "output_type": "stream",
     "text": [
      "정렬 후 원래 인덱스: [0 2 1 3] <class 'numpy.ndarray'>\n",
      "정렬 후 원래 인덱스: [3 1 2 0] <class 'numpy.ndarray'>\n"
     ]
    }
   ],
   "source": [
    "# np.argsort(ndarray)\n",
    "\n",
    "original_ndarray = np.array([0, 3, 2, 6])\n",
    "sorted_indices = np.argsort(original_ndarray)\n",
    "print(f'정렬 후 원래 인덱스: {sorted_indices}', type(sorted_indices))\n",
    "\n",
    "sorted_indices_desc = sorted_indices[::-1]\n",
    "print(f'정렬 후 원래 인덱스: {sorted_indices_desc}', type(sorted_indices_desc))"
   ]
  },
  {
   "cell_type": "code",
   "execution_count": 22,
   "id": "c6bd0423",
   "metadata": {},
   "outputs": [
    {
     "name": "stdout",
     "output_type": "stream",
     "text": [
      "정렬 후 zero100 인덱스: [0 1 3 2 4]\n",
      "['Lamborghini' 'Mclaren' 'Bentley' 'Benz' 'The New Morning']\n"
     ]
    }
   ],
   "source": [
    "cars = np.array(['Lamborghini', 'Mclaren', 'Benz', 'Bentley', 'The New Morning'])\n",
    "zero100 = np.array([2.8, 2.9, 5.2, 3.7, 13.5])\n",
    "\n",
    "sorted_indices = np.argsort(zero100)\n",
    "print(f'정렬 후 zero100 인덱스: {sorted_indices}')\n",
    "print(cars[sorted_indices])"
   ]
  },
  {
   "cell_type": "markdown",
   "id": "ad148e2e",
   "metadata": {},
   "source": [
    "### 벡터\n",
    "- 벡터는 공간에서 한 점을 나타낸다.\n",
    "- 벡터는 원점으로부터 상대적 위치를 표현한다.\n",
    "- 벡터는 서로 같은 모양을 가지고 있다면 덧셈, 뺄셈을 계산할 수 있다.\n",
    "- 두 벡터의 덧셈 혹은 뺄셈은 다른 벡터를 기준으로 상대적 위치 이동을 표현한다.\n",
    "\n",
    "### 벡터의 NORM\n",
    "- 원점에서부터의 거리를 말한다.\n",
    "- L<sub>1</sub> - 노름은 각 성분의 변화량의 절대값을 모두 더한다.\n",
    "- L<sub>2</sub> - 노름은 피타고라스의 정리를 이용해 유클리드 거리를 계산한다.\n",
    "\n",
    "### 행백터와 열백터\n",
    "<img src=\"./images/vector.png\" width=\"500\" style=\"margin-left: 20px\">\n",
    "\n",
    "### 내적(Dot product)\n",
    "- 두 벡터의 성분들의 곱의 합.\n",
    "- 벡터의 길이 계산, 두 개의 벡터가 수직인지, 평행하는 지, 둘 사이의 각이 얼마인지 등의 정보를 알아낼 수 있다."
   ]
  },
  {
   "cell_type": "code",
   "execution_count": 28,
   "id": "0b693db1",
   "metadata": {},
   "outputs": [
    {
     "name": "stdout",
     "output_type": "stream",
     "text": [
      "[[1 2 3]\n",
      " [4 5 6]]\n",
      "[[3 4 5]\n",
      " [6 7 8]]\n",
      "[[ 3  8 15]\n",
      " [24 35 48]]\n"
     ]
    }
   ],
   "source": [
    "# (n, m) * (n, m) = (n, m)\n",
    "import numpy as np\n",
    "\n",
    "ndarray1 = np.arange(1, 7).reshape((2, 3))\n",
    "ndarray2 = np.arange(1, 7).reshape((2, 3)) + 2\n",
    "\n",
    "print(ndarray1)\n",
    "print(ndarray2)\n",
    "\n",
    "ndarray3 = ndarray1 * ndarray2\n",
    "print(ndarray3)"
   ]
  },
  {
   "cell_type": "code",
   "execution_count": 32,
   "id": "c01d821a",
   "metadata": {},
   "outputs": [
    {
     "name": "stdout",
     "output_type": "stream",
     "text": [
      "[[1 2 3]\n",
      " [4 5 6]]\n",
      "[[3 6]\n",
      " [4 7]\n",
      " [5 8]]\n",
      "[[ 26  44]\n",
      " [ 62 107]]\n",
      "[[ 26  44]\n",
      " [ 62 107]]\n"
     ]
    }
   ],
   "source": [
    "# (n, m).dot((m, k)) = (n, k)\n",
    "\n",
    "ndarray1 = np.arange(1, 7).reshape((2, 3))\n",
    "ndarray2 = np.arange(1, 7).reshape((2, 3)) + 2\n",
    "\n",
    "print(ndarray1)\n",
    "print(ndarray2.T)\n",
    "\n",
    "ndarray3 = ndarray1.dot(ndarray2.T)\n",
    "print(ndarray3)\n",
    "\n",
    "ndarray4 = ndarray1@ndarray2.T\n",
    "print(ndarray4)"
   ]
  },
  {
   "cell_type": "markdown",
   "id": "155447dd",
   "metadata": {},
   "source": [
    "### 선형대수(Linear Algebra)\n",
    "#### 📌Linear Algebra는 \"리니어 알제브라\"로 발음한다.\n",
    "- 선형 방정식을 풀기 위해 배우는 학문이다.\n",
    "- y = 3x일 경우, 3을 곱한 만큼만 x가 변한다.\n",
    "- y = 2x<sup>2</sup>일 경우, 2를 곱했는데, 2만큼이 아닌 전혀 다르게 값이 크게 변한다.\n",
    "- 미지수가 한 개라면 예측하기 쉬우나 미지수가 2개 이상이라면 그 만큼의 방정식이 더 필요하다.\n",
    "- 이러한 연립 방정식을 표현할 때 쉽게 표현하기 위해서 선형대수를 배운다.\n",
    "- 결과적으로 선형대수는 선형을 가지는 방정식(벡터)들의 연산을 통해 방정식의 해를 구하는 학문이다.\n",
    "\n",
    "### 전치행렬\n",
    "- 행과 열을 반대로 바꾸는 작업  \n",
    "\n",
    "### 행렬내적  \n",
    "- 행렬끼리 곱한 후 합을 구하는 작업  \n",
    "\n",
    "### 역행렬\n",
    "- 행렬의 역수\n",
    "- 역수란, 곱셈에 대한 항등원이 1이 나오게 하는 수이며, A행렬의 역수는 A<sup>-1</sup>로 표기한다."
   ]
  },
  {
   "cell_type": "markdown",
   "id": "642b1cb5",
   "metadata": {},
   "source": [
    "### 📌 연립방정식을 쉽게 정리하고 풀기 위해 선형대수를 사용한다.\n",
    "\n",
    "k = [[k<sub>1</sub>], [k<sub>2</sub>]]  \n",
    "A = [[x<sub>1</sub>, x<sub>2</sub>], [y<sub>1</sub>, y<sub>2</sub>]]  \n",
    "w = [[w<sub>1</sub>], [w<sub>2</sub>]]  \n",
    "\n",
    "1. k<sub>1</sub> = x<sub>1</sub>w<sub>1</sub> + x<sub>2</sub>w<sub>2</sub>\n",
    "2. k<sub>2</sub> = y<sub>1</sub>w<sub>1</sub> + y<sub>2</sub>w<sub>2</sub>\n",
    "3. k = Aw\n",
    "\n",
    "#### 위와 같이 선형대수를 사용하면, 최소한의 타이핑으로 대량의 데이터를 쉽게 계산할 수 있게 된다."
   ]
  },
  {
   "cell_type": "code",
   "execution_count": 35,
   "id": "fd3039b8",
   "metadata": {},
   "outputs": [
    {
     "name": "stdout",
     "output_type": "stream",
     "text": [
      "[[1 2]\n",
      " [3 4]]\n",
      "[[5]\n",
      " [6]]\n",
      "==============================\n",
      "[[17]\n",
      " [39]]\n"
     ]
    }
   ],
   "source": [
    "A = np.array([1, 2, 3, 4]).reshape(2, 2)\n",
    "w = np.array([5, 6]).reshape(2, 1)\n",
    "\n",
    "print(A, w, sep=\"\\n\")\n",
    "print(\"=\" * 30)\n",
    "print(np.dot(A, w))"
   ]
  },
  {
   "cell_type": "code",
   "execution_count": 156,
   "id": "a1acefe9",
   "metadata": {
    "scrolled": true
   },
   "outputs": [
    {
     "name": "stdout",
     "output_type": "stream",
     "text": [
      "[[1 2]\n",
      " [3 4]]\n",
      "[[1 3]\n",
      " [2 4]]\n",
      "[[ 1  2  3  4  5  6  7  8]\n",
      " [ 9 10 11 12 13 14 15 16]\n",
      " [17 18 19 20 21 22 23 24]\n",
      " [25 26 27 28 29 30 31 32]]\n",
      "[[ 1  9 17 25]\n",
      " [ 2 10 18 26]\n",
      " [ 3 11 19 27]\n",
      " [ 4 12 20 28]\n",
      " [ 5 13 21 29]\n",
      " [ 6 14 22 30]\n",
      " [ 7 15 23 31]\n",
      " [ 8 16 24 32]]\n"
     ]
    }
   ],
   "source": [
    "ndarray1 = np.arange(1, 5).reshape(2, 2)\n",
    "ndarray1_T = ndarray1.T\n",
    "print(ndarray1, ndarray1_T, sep=\"\\n\")\n",
    "\n",
    "ndarray2 = np.arange(1, 33).reshape(4, -1)\n",
    "ndarray2_T = ndarray2.T\n",
    "print(ndarray2, ndarray2_T, sep=\"\\n\")"
   ]
  },
  {
   "cell_type": "code",
   "execution_count": null,
   "id": "e3650e3c",
   "metadata": {},
   "outputs": [],
   "source": []
  },
  {
   "cell_type": "code",
   "execution_count": null,
   "id": "0af2906b",
   "metadata": {},
   "outputs": [],
   "source": []
  },
  {
   "cell_type": "code",
   "execution_count": null,
   "id": "00665d1d",
   "metadata": {},
   "outputs": [],
   "source": []
  },
  {
   "cell_type": "code",
   "execution_count": null,
   "id": "0b47b7ee",
   "metadata": {},
   "outputs": [],
   "source": []
  },
  {
   "cell_type": "code",
   "execution_count": null,
   "id": "f80be4f9",
   "metadata": {},
   "outputs": [],
   "source": []
  },
  {
   "cell_type": "code",
   "execution_count": null,
   "id": "5568053b",
   "metadata": {},
   "outputs": [],
   "source": []
  },
  {
   "cell_type": "code",
   "execution_count": null,
   "id": "09e0b95d",
   "metadata": {},
   "outputs": [],
   "source": []
  },
  {
   "cell_type": "code",
   "execution_count": null,
   "id": "47f58046",
   "metadata": {},
   "outputs": [],
   "source": []
  },
  {
   "cell_type": "code",
   "execution_count": 6,
   "id": "126dedd5",
   "metadata": {},
   "outputs": [
    {
     "name": "stdout",
     "output_type": "stream",
     "text": [
      "[[1 2 3]\n",
      " [4 5 6]]\n",
      "[[3 6]\n",
      " [4 7]\n",
      " [5 8]]\n"
     ]
    },
    {
     "data": {
      "text/plain": [
       "array([[ 26,  44],\n",
       "       [ 62, 107]])"
      ]
     },
     "execution_count": 6,
     "metadata": {},
     "output_type": "execute_result"
    }
   ],
   "source": [
    "ndarray1 = np.arange(1, 7).reshape((2, 3))\n",
    "ndarray2 = np.arange(1, 7).reshape((2, 3)) + 2\n",
    "\n",
    "print(ndarray1)\n",
    "print(ndarray2.T)\n",
    "ndarray1 @ ndarray2.T"
   ]
  }
 ],
 "metadata": {
  "kernelspec": {
   "display_name": "Python 3 (ipykernel)",
   "language": "python",
   "name": "python3"
  },
  "language_info": {
   "codemirror_mode": {
    "name": "ipython",
    "version": 3
   },
   "file_extension": ".py",
   "mimetype": "text/x-python",
   "name": "python",
   "nbconvert_exporter": "python",
   "pygments_lexer": "ipython3",
   "version": "3.11.5"
  }
 },
 "nbformat": 4,
 "nbformat_minor": 5
}
