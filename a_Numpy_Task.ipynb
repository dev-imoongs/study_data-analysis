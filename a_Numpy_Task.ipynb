{
 "cells": [
  {
   "cell_type": "markdown",
   "id": "71f4f791",
   "metadata": {},
   "source": [
    "### ndarray Task"
   ]
  },
  {
   "cell_type": "code",
   "execution_count": 67,
   "id": "4ac87af7",
   "metadata": {},
   "outputs": [
    {
     "name": "stdout",
     "output_type": "stream",
     "text": [
      "<class 'numpy.ndarray'>\n",
      "(3, 3)\n",
      "2\n",
      "int32\n",
      "==================================================\n"
     ]
    },
    {
     "ename": "TypeError",
     "evalue": "'list' object is not callable",
     "output_type": "error",
     "traceback": [
      "\u001b[1;31m---------------------------------------------------------------------------\u001b[0m",
      "\u001b[1;31mTypeError\u001b[0m                                 Traceback (most recent call last)",
      "Cell \u001b[1;32mIn[67], line 16\u001b[0m\n\u001b[0;32m     13\u001b[0m python_list\u001b[38;5;241m.\u001b[39mappend([\u001b[38;5;241m4\u001b[39m \u001b[38;5;241m-\u001b[39m i \u001b[38;5;28;01mfor\u001b[39;00m i \u001b[38;5;129;01min\u001b[39;00m \u001b[38;5;28mrange\u001b[39m(\u001b[38;5;241m2\u001b[39m)])\n\u001b[0;32m     14\u001b[0m python_list\u001b[38;5;241m.\u001b[39mappend([\u001b[38;5;241m2\u001b[39m \u001b[38;5;241m-\u001b[39m i \u001b[38;5;28;01mfor\u001b[39;00m i \u001b[38;5;129;01min\u001b[39;00m \u001b[38;5;28mrange\u001b[39m(\u001b[38;5;241m2\u001b[39m)])\n\u001b[1;32m---> 16\u001b[0m ndarray2 \u001b[38;5;241m=\u001b[39m np\u001b[38;5;241m.\u001b[39marray(python_list)\n\u001b[0;32m     17\u001b[0m \u001b[38;5;28mprint\u001b[39m(\u001b[38;5;28mtype\u001b[39m(ndarray2), ndarray2\u001b[38;5;241m.\u001b[39mshape, ndarray2\u001b[38;5;241m.\u001b[39mndim, ndarray2\u001b[38;5;241m.\u001b[39mdtype, sep\u001b[38;5;241m=\u001b[39m\u001b[38;5;124m\"\u001b[39m\u001b[38;5;130;01m\\n\u001b[39;00m\u001b[38;5;124m\"\u001b[39m)\n\u001b[0;32m     19\u001b[0m \u001b[38;5;28mprint\u001b[39m(\u001b[38;5;124m\"\u001b[39m\u001b[38;5;124m=\u001b[39m\u001b[38;5;124m\"\u001b[39m \u001b[38;5;241m*\u001b[39m \u001b[38;5;241m50\u001b[39m)\n",
      "\u001b[1;31mTypeError\u001b[0m: 'list' object is not callable"
     ]
    }
   ],
   "source": [
    "import numpy as np\n",
    "\n",
    "#1 1~10까지의 요소를 ndarray에 담는다.\n",
    "# ndarray1 = np.array([i for i in range(1, 11)])\n",
    "ndarray1 = np.array(list(range(1, 11)))\n",
    "print(type(ndarray1), ndarray1.shape, ndarray1.ndim, ndarray1.dtype, sep=\"\\n\")\n",
    "\n",
    "print(\"=\" * 50)\n",
    "\n",
    "#2 3행 2열 list를 ndarray에 담고 각 요소는 순서대로 6, 5, 4, 3, 2, 1을 담는다.\n",
    "python_list = []\n",
    "python_list.append([6 - i for i in range(2)])\n",
    "python_list.append([4 - i for i in range(2)])\n",
    "python_list.append([2 - i for i in range(2)])\n",
    "\n",
    "ndarray2 = np.array(python_list)\n",
    "print(type(ndarray2), ndarray2.shape, ndarray2.ndim, ndarray2.dtype, sep=\"\\n\")\n",
    "\n",
    "print(\"=\" * 50)\n",
    "\n",
    "#3 4행 1열 ndarray, 순서대로 10, 8, 6, 4를 담는다(transpose, 전치).\n",
    "ndarray3 = np.array([[(5 - i) * 2 for i in range(4)]]).T\n",
    "print(type(ndarray3), ndarray3.shape, ndarray3.ndim, ndarray3.dtype, sep=\"\\n\")\n",
    "\n",
    "print(\"=\" * 50)\n",
    "\n",
    "# #1에서 제작된 ndarray의 요소 타입 출력\n",
    "print(ndarray1.dtype)\n",
    "\n",
    "print(\"=\" * 50)\n",
    "\n",
    "# #1에서 제작된 ndarray의 차원 출력\n",
    "print(ndarray1.shape)\n",
    "\n",
    "print(\"=\" * 50)\n",
    "\n",
    "# #2에서 제작된 ndarray의 요소 타입을 float으로 변환\n",
    "ndarray2_float32 = ndarray2.astype(np.float32)\n",
    "print(ndarray2_float32)\n",
    "\n",
    "print(\"=\" * 50)\n",
    "\n",
    "# #2에서 제작된 ndarray의 차원 출력\n",
    "print(ndarray2.shape)\n",
    "\n",
    "print(\"=\" * 50)\n",
    "\n",
    "# #3에서 제작된 ndarray의 요소 타입을 int8로 변환\n",
    "ndarray2_int8 = ndarray2.astype(np.int8)\n",
    "print(ndarray2_int8.dtype, ndarray2_int8, sep=\"\\n\")\n",
    "\n",
    "print(\"=\" * 50)\n",
    "\n",
    "# #3에서 제작된 ndarray의 요소에 5씩 더하기\n",
    "ndarray3_result = ndarray3 + 5\n",
    "print(ndarray3_result)\n",
    "\n",
    "print(\"=\" * 50)\n",
    "\n",
    "# #3에서 제작된 ndarray의 차원 출력\n",
    "print(ndarray3.shape)"
   ]
  },
  {
   "cell_type": "markdown",
   "id": "f34b3a9c",
   "metadata": {},
   "source": [
    "### arange, zeros, ones Task"
   ]
  },
  {
   "cell_type": "code",
   "execution_count": 29,
   "id": "9ece5a59",
   "metadata": {},
   "outputs": [
    {
     "name": "stdout",
     "output_type": "stream",
     "text": [
      "[0 0 0 0 0 0 0 0 0 0] int32 (10,)\n",
      "[[1 1 1 1]\n",
      " [1 1 1 1]\n",
      " [1 1 1 1]] int8 (3, 4)\n",
      "[0 1 2 3 4] int32 (5,)\n"
     ]
    }
   ],
   "source": [
    "import numpy as np\n",
    "\n",
    "# axis 0이 10인 shape이면서 모든 원소가 0, dtype은 int32 인 ndarray 만들기\n",
    "ndarray = np.zeros((10, ), dtype=np.int32)\n",
    "print(ndarray, ndarray.dtype, ndarray.shape)\n",
    "\n",
    "# axis 0이 3, axis1이 4인 shape이면서 모든 원소가 1인 ndarray 만들기\n",
    "ndarray = np.ones((3, 4), dtype=np.int8)\n",
    "print(ndarray, ndarray.dtype, ndarray.shape)\n",
    "\n",
    "# axis 0이 5, 각 요소가 0~4인 ndarray 만들기\n",
    "ndarray = np.arange(5)\n",
    "print(ndarray, ndarray.dtype, ndarray.shape)"
   ]
  },
  {
   "cell_type": "markdown",
   "id": "32ca8934",
   "metadata": {},
   "source": [
    "### reshape Task"
   ]
  },
  {
   "cell_type": "code",
   "execution_count": 41,
   "id": "5da6351d",
   "metadata": {},
   "outputs": [
    {
     "name": "stdout",
     "output_type": "stream",
     "text": [
      "==================================================\n",
      "(8, 2)\n",
      "[[ 0  1]\n",
      " [ 2  3]\n",
      " [ 4  5]\n",
      " [ 6  7]\n",
      " [ 8  9]\n",
      " [10 11]\n",
      " [12 13]\n",
      " [14 15]]\n",
      "==================================================\n",
      "(8, 2)\n",
      "[[ 0  1]\n",
      " [ 2  3]\n",
      " [ 4  5]\n",
      " [ 6  7]\n",
      " [ 8  9]\n",
      " [10 11]\n",
      " [12 13]\n",
      " [14 15]]\n",
      "==================================================\n",
      "(4, 2, 2)\n",
      "[[[ 0  1]\n",
      "  [ 2  3]]\n",
      "\n",
      " [[ 4  5]\n",
      "  [ 6  7]]\n",
      "\n",
      " [[ 8  9]\n",
      "  [10 11]]\n",
      "\n",
      " [[12 13]\n",
      "  [14 15]]]\n",
      "==================================================\n",
      "(16, 1)\n",
      "[[ 0]\n",
      " [ 1]\n",
      " [ 2]\n",
      " [ 3]\n",
      " [ 4]\n",
      " [ 5]\n",
      " [ 6]\n",
      " [ 7]\n",
      " [ 8]\n",
      " [ 9]\n",
      " [10]\n",
      " [11]\n",
      " [12]\n",
      " [13]\n",
      " [14]\n",
      " [15]]\n",
      "==================================================\n",
      "(16,)\n",
      "[ 0  1  2  3  4  5  6  7  8  9 10 11 12 13 14 15]\n"
     ]
    }
   ],
   "source": [
    "import numpy as np\n",
    "\n",
    "ndarray1 = np.arange(start=0, stop=16)\n",
    "ndarray1\n",
    "\n",
    "print(\"=\" * 50)\n",
    "\n",
    "# 2 Dimension, axis 1은 2로 변경\n",
    "ndarray2 = ndarray1.reshape((-1, 2))\n",
    "print(ndarray2.shape, ndarray2, sep=\"\\n\")\n",
    "\n",
    "print(\"=\" * 50)\n",
    "\n",
    "# 2 Dimension, axis 0은 8로 변경\n",
    "ndarray3 = ndarray1.reshape((8, -1))\n",
    "print(ndarray3.shape, ndarray3, sep=\"\\n\")\n",
    "\n",
    "print(\"=\" * 50)\n",
    "\n",
    "# 3 Dimension으로 변경\n",
    "ndarray4 = ndarray1.reshape((4, 2, -1))\n",
    "print(ndarray4.shape, ndarray4, sep=\"\\n\")\n",
    "\n",
    "print(\"=\" * 50)\n",
    "\n",
    "# ndarray3을 axis 1이 1인 2차원 ndarray로 변환\n",
    "ndarray5 = ndarray4.reshape((-1, 1))\n",
    "print(ndarray5.shape, ndarray5, sep=\"\\n\")\n",
    "\n",
    "print(\"=\" * 50)\n",
    "\n",
    "# ndarray3을 1 Dimension으로 변환\n",
    "ndarray6 = ndarray4.reshape((-1,))\n",
    "print(ndarray6.shape, ndarray6, sep=\"\\n\")"
   ]
  },
  {
   "cell_type": "markdown",
   "id": "fc71f3f9",
   "metadata": {},
   "source": [
    "### Indexing Task"
   ]
  },
  {
   "cell_type": "code",
   "execution_count": 19,
   "id": "db56bc1c",
   "metadata": {},
   "outputs": [
    {
     "name": "stdout",
     "output_type": "stream",
     "text": [
      "97\n",
      "==================================================\n",
      "[ 1  2  3  4  5  6  7  8  9 10 11 12 13 14 15 16 17 18 19 20 21 22 23 24\n",
      " 25 26 27 28 29 30]\n",
      "==================================================\n",
      "15\n",
      "==================================================\n",
      "[[ 1  2  3  4]\n",
      " [ 5  6  7  8]\n",
      " [ 9 10 11 12]\n",
      " [13 14 15 16]\n",
      " [17 18 19 20]]\n",
      "==================================================\n",
      "8\n",
      "==================================================\n",
      "[  2   4   6   8  10  12  14  16  18  20  22  24  26  28  30  32  34  36\n",
      "  38  40  42  44  46  48  50  52  54  56  58  60  62  64  66  68  70  72\n",
      "  74  76  78  80  82  84  86  88  90  92  94  96  98 100]\n",
      "==================================================\n",
      "[ 81  82  83  84  85  86  87  88  89  90  91  92  93  94  95  96  97  98\n",
      "  99 100]\n",
      "==================================================\n",
      "[83 95]\n",
      "==================================================\n",
      "[ 2 12 22 32 42 52 62 72 82 92]\n",
      "==================================================\n",
      "[10 20 30 40]\n",
      "==================================================\n",
      "[20 30 40]\n"
     ]
    }
   ],
   "source": [
    "import numpy as np\n",
    "\n",
    "# 1. 위치 인덱싱(Location indexing)\n",
    "# 1-1. 1차원 배열 1~100값 중 97값 추출하기\n",
    "ndarray1 = np.arange(1, 101)\n",
    "print(ndarray1[-4])\n",
    "\n",
    "print(\"=\" * 50)\n",
    "\n",
    "# 1-2. 1~30까지의 요소를 ndarray에 담는다.\n",
    "ndarray1 = np.arange(start=1, stop=31)\n",
    "print(ndarray1)\n",
    "\n",
    "print('=' * 50)\n",
    "\n",
    "# 2. 2차원 위치 인덱싱(Location indexing)\n",
    "# 2-1. 2차원 배열 axis 0은 4, axis 1은 5로 1~20 요소 중 15값 추출하기\n",
    "ndarray1 = np.arange(1, 21)\n",
    "ndarray2 = ndarray1.reshape((4,5))\n",
    "print(ndarray2[2, 4])\n",
    "\n",
    "print(\"=\" * 50)\n",
    "\n",
    "# 2-2. Dimension, axis 0은 5로 변경\n",
    "ndarray2 = ndarray1.reshape((5, -1))\n",
    "print(ndarray2)\n",
    "\n",
    "print(\"=\" * 50)\n",
    "\n",
    "# 2-3. 2행의 4번째 숫자 출력 (Location indexing)\n",
    "print(ndarray2[1,3])\n",
    "\n",
    "print(\"=\" * 50)\n",
    "\n",
    "# 3. 불린 인덱싱 (Boolean indexing)\n",
    "# 3-1. 1~100중 짝수만 출력\n",
    "ndarray1 = np.arange(1, 101)\n",
    "ndarray2 = ndarray1[ndarray1 % 2 == 0]\n",
    "print(ndarray2)\n",
    "\n",
    "print(\"=\" * 50)\n",
    "\n",
    "# 3-2. 3-1에서 구한 요소를 axis 0이 10인 2차원 배열로 변환 후 82~100까지 추출하기\n",
    "ndarray2 = ndarray1.reshape((10, -1))\n",
    "ndarray3 = ndarray2[8:]\n",
    "print(ndarray3.flatten())\n",
    "\n",
    "print(\"=\" * 50)\n",
    "\n",
    "# 3-3. 3-2에서 구한 요소 중 x:86 y:100 좌표 구하기\n",
    "ndarray4 = ndarray3[[0, 1],[2, 4]] \n",
    "print(ndarray4)\n",
    "\n",
    "print(\"=\" * 50)\n",
    "\n",
    "# 3-4. 불리언 인덱싱을 사용하여 각 요소중 1의 자리가 2인 수들만 추출하시오\n",
    "ndarray1 = np.arange(1, 101)\n",
    "ndarray2 = ndarray1[ndarray1 % 2 == 0]\n",
    "cond = ndarray2 % 10 == 2\n",
    "ndarray3 = ndarray2[cond]\n",
    "\n",
    "print(ndarray3)\n",
    "\n",
    "print(\"=\" * 50)\n",
    "\n",
    "# 3-5. 1~49 요소 중 2와 5의 공배수를 추출하세요.\n",
    "ndarray1 = np.arange(start=1, stop=50)\n",
    "\n",
    "cond1 = ndarray % 2 == 0\n",
    "cond2 = ndarray % 5 == 0\n",
    "cond3 = cond1 & cond2\n",
    "\n",
    "ndarray2 = ndarray[cond3]\n",
    "print(ndarray2)\n",
    "\n",
    "print(\"=\" * 50)\n",
    "\n",
    "# 3-6. 3-5에서 추출한 공배수 중 20이상인 값만 추출하세요.\n",
    "print(ndarray2[(ndarray2 >= 20)])"
   ]
  },
  {
   "cell_type": "markdown",
   "id": "82dd5b6f",
   "metadata": {},
   "source": [
    "### np.argsort() Task"
   ]
  },
  {
   "cell_type": "code",
   "execution_count": 33,
   "id": "375e4159",
   "metadata": {},
   "outputs": [],
   "source": [
    "# 데이터를 분석하여, 각 수치별 오름차순 및 내림차순 후 이름을 출력하세요.\n",
    "# ndarray.ravel(): 2차원 넘파이 배열을 1차원 넘파이 배열로 변경(mutable)\n",
    "# ndarray.flatten(): 2차원 넘파이 배열을 1차원 넘파이 배열로 변경(immutable)\n",
    "\n",
    "# [[과일이름], [가격]], 가격별 내림차순\n",
    "array1 = [['Mango', 'Apple', 'Pear', 'Pitch', 'Melon'], [1500, 1800, 2000, 2500, 8500]]\n",
    "\n",
    "# [[이름], [나이], [학점]], 나이별 내림차순, 학점별 오름차순\n",
    "array2 = [['둘리', '또치', '길동', '도너', '마이콜'], [7, 9, 40, 5, 20], ['C', 'A', 'B', 'F', 'D']]\n",
    "\n",
    "# [[국가이름], [GDP 성장률]], GDP 성장률별 오름차순\n",
    "array3 = [['한국', '영국', '러시아', '남아프리카 공화국', '미국'], ['1.7%', '-0.6%', '0.3%', '1.2%', '1.4%']]"
   ]
  },
  {
   "cell_type": "code",
   "execution_count": 25,
   "id": "3f264b97",
   "metadata": {},
   "outputs": [
    {
     "name": "stdout",
     "output_type": "stream",
     "text": [
      "[['Mango' 'Apple' 'Pear' 'Pitch' 'Melon']\n",
      " ['1500' '1800' '2000' '2500' '8500']]\n",
      "['Mango' 'Apple' 'Pear' 'Pitch' 'Melon'] ['1500' '1800' '2000' '2500' '8500']\n",
      "['Melon' 'Pitch' 'Pear' 'Apple' 'Mango']\n"
     ]
    }
   ],
   "source": [
    "# [[과일이름], [가격]], 가격별 내림차순\n",
    "ndarray = np.array(array1)\n",
    "print(ndarray)\n",
    "fruit_name = ndarray[:1].flatten()\n",
    "fruit_price = ndarray[1:2].flatten()\n",
    "print(fruit_name, fruit_price)\n",
    "\n",
    "fruit_name_sorted_desc = fruit_name[np.argsort(fruit_price)[::-1]]\n",
    "print(fruit_name_sorted_desc)"
   ]
  },
  {
   "cell_type": "code",
   "execution_count": 29,
   "id": "f630818e",
   "metadata": {},
   "outputs": [
    {
     "name": "stdout",
     "output_type": "stream",
     "text": [
      "[['둘리' '또치' '길동' '도너' '마이콜']\n",
      " ['7' '9' '40' '5' '20']\n",
      " ['C' 'A' 'B' 'F' 'D']]\n",
      "['둘리' '또치' '길동' '도너' '마이콜'] [ 7  9 40  5 20]\n",
      "['길동' '마이콜' '또치' '둘리' '도너']\n",
      "['또치' '길동' '둘리' '마이콜' '도너']\n"
     ]
    }
   ],
   "source": [
    "# [[이름], [나이], [학점]], 나이별 내림차순, 학점별 오름차순\n",
    "ndarray = np.array(array2)\n",
    "print(ndarray)\n",
    "\n",
    "# 나이별 내림차순\n",
    "names = ndarray[:1].flatten()\n",
    "ages = ndarray[1:2].flatten().astype(np.int32)\n",
    "print(names, ages)\n",
    "\n",
    "names_sorted_by_ages_desc = names[np.argsort(ages)[::-1]]\n",
    "print(names_sorted_by_ages_desc)\n",
    "\n",
    "# 학점별 오름차순\n",
    "grades = ndarray[2:3].flatten()\n",
    "names_sorted_by_grades = names[np.argsort(grades)]\n",
    "print(names_sorted_by_grades)"
   ]
  },
  {
   "cell_type": "code",
   "execution_count": 34,
   "id": "d0db2c51",
   "metadata": {
    "scrolled": true
   },
   "outputs": [
    {
     "name": "stdout",
     "output_type": "stream",
     "text": [
      "[['한국' '영국' '러시아' '남아프리카 공화국' '미국']\n",
      " ['1.7%' '-0.6%' '0.3%' '1.2%' '1.4%']]\n",
      "['한국' '영국' '러시아' '남아프리카 공화국' '미국'] [ 1.7 -0.6  0.3  1.2  1.4]\n",
      "['영국' '러시아' '남아프리카 공화국' '미국' '한국']\n"
     ]
    }
   ],
   "source": [
    "# [[국가이름], [GDP 성장률]], GDP 성장률별 오름차순\n",
    "ndarray = np.array(array3)\n",
    "print(ndarray)\n",
    "\n",
    "nations = ndarray[:1].flatten()\n",
    "increase_ratings_of_GDP = []\n",
    "\n",
    "increase_ratings_of_GDP_data = ndarray[1:2].flatten()\n",
    "\n",
    "for i in increase_ratings_of_GDP_data:\n",
    "    increase_ratings_of_GDP.append(i.replace('%', ''))\n",
    "\n",
    "increase_ratings_of_GDP = np.array(increase_ratings_of_GDP, dtype=np.float32)\n",
    "print(nations, increase_ratings_of_GDP)\n",
    "\n",
    "nations_sorted_by_GDP = nations[np.argsort(increase_ratings_of_GDP)]\n",
    "print(nations_sorted_by_GDP)"
   ]
  },
  {
   "cell_type": "markdown",
   "id": "82e21751",
   "metadata": {},
   "source": [
    "### Linear Equation Task"
   ]
  },
  {
   "cell_type": "code",
   "execution_count": null,
   "id": "0728866c",
   "metadata": {},
   "outputs": [],
   "source": [
    "# 다음 행렬을 내적하세요.\n",
    "\n",
    "'''\n",
    "A1      A2\n",
    "1 2 3   7 8\n",
    "4 5 6   9 10\n",
    "        11 12\n",
    "'''"
   ]
  },
  {
   "cell_type": "code",
   "execution_count": 36,
   "id": "44ede246",
   "metadata": {},
   "outputs": [
    {
     "name": "stdout",
     "output_type": "stream",
     "text": [
      "[[ 8.]\n",
      " [-2.]\n",
      " [-1.]]\n"
     ]
    }
   ],
   "source": [
    "# 다음 연립방정식을 전치 행렬과 행렬 내적 \n",
    "# 그리고 역행렬(np.linalg.inv())을 통해 해결하세요.\n",
    "\n",
    "# k = [[k1], [k2]]\n",
    "# A = [[x1, x2], [y1, y2]]\n",
    "# w = [[w1], [w2]]\n",
    "\n",
    "# k1 = x1w1 + x2w2\n",
    "# k2 = y1w1 + y2w2\n",
    "# k = Aw\n",
    "\n",
    "# x + 2y + 3z = 1\n",
    "# x + 2y + z = 3\n",
    "# x + 3z = 5\n",
    "\n",
    "A = np.array([[1, 2, 3], [1, 2, 1], [1, 0, 3]])\n",
    "k = np.array([[1, 3, 5]]).T\n",
    "print(np.dot(np.linalg.inv(A), k))"
   ]
  },
  {
   "cell_type": "code",
   "execution_count": 62,
   "id": "97031ed0",
   "metadata": {},
   "outputs": [
    {
     "ename": "TypeError",
     "evalue": "'list' object is not callable",
     "output_type": "error",
     "traceback": [
      "\u001b[1;31m---------------------------------------------------------------------------\u001b[0m",
      "\u001b[1;31mTypeError\u001b[0m                                 Traceback (most recent call last)",
      "Cell \u001b[1;32mIn[62], line 6\u001b[0m\n\u001b[0;32m      1\u001b[0m \u001b[38;5;66;03m# x + y = 10\u001b[39;00m\n\u001b[0;32m      2\u001b[0m \u001b[38;5;66;03m# 2x - 3y = 10\u001b[39;00m\n\u001b[0;32m      3\u001b[0m \n\u001b[0;32m      4\u001b[0m \u001b[38;5;66;03m# Aw = k\u001b[39;00m\n\u001b[1;32m----> 6\u001b[0m A \u001b[38;5;241m=\u001b[39m np\u001b[38;5;241m.\u001b[39marray([[\u001b[38;5;241m1\u001b[39m,\u001b[38;5;241m1\u001b[39m],[\u001b[38;5;241m2\u001b[39m,\u001b[38;5;241m-\u001b[39m\u001b[38;5;241m3\u001b[39m]])\n\u001b[0;32m      7\u001b[0m k \u001b[38;5;241m=\u001b[39m np\u001b[38;5;241m.\u001b[39marray([[\u001b[38;5;241m10\u001b[39m, \u001b[38;5;241m10\u001b[39m]])\u001b[38;5;241m.\u001b[39mT\n\u001b[0;32m      9\u001b[0m \u001b[38;5;28mprint\u001b[39m(np\u001b[38;5;241m.\u001b[39mdot(np\u001b[38;5;241m.\u001b[39mlinalg\u001b[38;5;241m.\u001b[39minv(A), k))\n",
      "\u001b[1;31mTypeError\u001b[0m: 'list' object is not callable"
     ]
    }
   ],
   "source": [
    "# 1x + 1y = 10\n",
    "# 2x - 3y = 10\n",
    "\n",
    "# Aw = k\n",
    "\n",
    "A = np.array([[1,1],[2,-3]])\n",
    "k = np.array([[10, 10]]).T\n",
    "\n",
    "print(np.dot(np.linalg.inv(A), k))"
   ]
  }
 ],
 "metadata": {
  "kernelspec": {
   "display_name": "Python 3 (ipykernel)",
   "language": "python",
   "name": "python3"
  },
  "language_info": {
   "codemirror_mode": {
    "name": "ipython",
    "version": 3
   },
   "file_extension": ".py",
   "mimetype": "text/x-python",
   "name": "python",
   "nbconvert_exporter": "python",
   "pygments_lexer": "ipython3",
   "version": "3.11.5"
  }
 },
 "nbformat": 4,
 "nbformat_minor": 5
}
